{
  "nbformat": 4,
  "nbformat_minor": 0,
  "metadata": {
    "colab": {
      "name": "Lab1_Bayes.ipynb",
      "provenance": [],
      "collapsed_sections": [
        "eIVaKQGfoKWz"
      ]
    },
    "kernelspec": {
      "name": "python3",
      "display_name": "Python 3"
    }
  },
  "cells": [
    {
      "cell_type": "markdown",
      "metadata": {
        "id": "oCLxRVphoEGz"
      },
      "source": [
        "#E-mail Spam Filtering based on Naiive Bayes"
      ]
    },
    {
      "cell_type": "code",
      "metadata": {
        "id": "p8eYLZU0s-Md"
      },
      "source": [
        "import os\n",
        "import re\n",
        "import numpy as np\n",
        "import pandas as pd\n",
        "import matplotlib.pyplot as plt\n",
        "from sklearn.metrics import recall_score, precision_score"
      ],
      "execution_count": null,
      "outputs": []
    },
    {
      "cell_type": "code",
      "metadata": {
        "id": "n8IAN0hP_HEt"
      },
      "source": [
        "REPLACE_BY_SPACE_RE = re.compile('[+-_/(){}!^?<>\"''\\[\\]\\|,;:.]')\n",
        "# data cleaning\n",
        "def clean_text(text):\n",
        "  # change to lower-case\n",
        "  #text = str(text).lower()\n",
        "  text = text.replace('\\n', ' ')\n",
        "  text = REPLACE_BY_SPACE_RE.sub(' ', text)\n",
        "  text = list(set(text.split(' ')))\n",
        "  return text\n",
        "\n",
        "def clean_text1(text):\n",
        "  # change to lower-case\n",
        "  #text = str(text).lower()\n",
        "  text = text.replace('\\n', ' ')\n",
        "  text = REPLACE_BY_SPACE_RE.sub(' ', text)\n",
        "  text = list(text.split(' '))\n",
        "  return text"
      ],
      "execution_count": null,
      "outputs": []
    },
    {
      "cell_type": "markdown",
      "metadata": {
        "id": "eIVaKQGfoKWz"
      },
      "source": [
        "## 1. feature selection using the information gain (IG) metric"
      ]
    },
    {
      "cell_type": "code",
      "metadata": {
        "id": "Ouu8IOz9oA7w",
        "outputId": "8e0b715f-76ef-46d1-b7c6-8bdf244a3e91",
        "colab": {
          "base_uri": "https://localhost:8080/",
          "height": 53
        }
      },
      "source": [
        "corpus = ''\n",
        "legit = []\n",
        "spam = []\n",
        "\n",
        "# read the train data and split them into spam and legit\n",
        "for i in range(1, 10):\n",
        "  root = '/content/drive/My Drive/Colab Notebooks/data/lemm_stop/part' + str(i)\n",
        "  file_names = os.listdir(root)\n",
        "\n",
        "  for file in file_names:\n",
        "    f = open(root + '/' + file, 'r')\n",
        "    text = f.read()\n",
        "    corpus = corpus + text\n",
        "    text = clean_text(text)\n",
        "    if file[0] != 's':\n",
        "      legit.append(text)\n",
        "    else:\n",
        "      spam.append(text)\n",
        "    f.close()\n",
        "\n",
        "print(len(legit))\n",
        "print(len(spam))\n",
        "##print(corpus)"
      ],
      "execution_count": null,
      "outputs": [
        {
          "output_type": "stream",
          "text": [
            "2170\n",
            "432\n"
          ],
          "name": "stdout"
        }
      ]
    },
    {
      "cell_type": "code",
      "metadata": {
        "id": "SbY2rsGo1Gmr",
        "outputId": "969f8191-5387-447f-c1a5-a8ad5e0a8cb7",
        "colab": {
          "base_uri": "https://localhost:8080/",
          "height": 53
        }
      },
      "source": [
        "corpus = clean_text(corpus)\n",
        "print('Total number of words in corpus:', len(corpus))\n",
        "\n",
        "n_spam = len(spam)       # total number of spam email\n",
        "n_legit = len(legit)      # total number of legit email\n",
        "n_email = n_spam + n_legit  # total number of email\n",
        "\n",
        "# compute inherent uncertainty\n",
        "p = n_legit/(n_spam + n_legit)\n",
        "HC = -p*np.log(p) - (1-p)*np.log(1-p)\n",
        "print('HC:', HC)"
      ],
      "execution_count": null,
      "outputs": [
        {
          "output_type": "stream",
          "text": [
            "Total number of words in corpus: 46122\n",
            "HC: 0.4495288323617157\n"
          ],
          "name": "stdout"
        }
      ]
    },
    {
      "cell_type": "code",
      "metadata": {
        "id": "id8spnBSYq0P",
        "outputId": "039fa58e-008e-4d89-cb9b-e199313fe3ae",
        "colab": {
          "base_uri": "https://localhost:8080/",
          "height": 110
        }
      },
      "source": [
        "# compute IG for each term in the corpus\n",
        "IG = {}             # store the IG value for all terms\n",
        "for term in corpus:\n",
        "  term = term.replace(\"'\", \"\")\n",
        "  spam_count = 0    # number of spam email with term\n",
        "  legit_count = 0    # number of legit email with term\n",
        "  # compute the number of legit and spam with each term in corpus\n",
        "  for i in range(len(spam)):\n",
        "    if term in spam[i]:\n",
        "      spam_count += 1\n",
        "  for j in range(len(legit)):\n",
        "    if term in legit[j]:\n",
        "      legit_count += 1\n",
        "\n",
        "  n_1 = spam_count + legit_count    # number of emails with term\n",
        "  n_0 = n_email - n_1         # number of emails without term\n",
        "  \n",
        "  # use smoothing for terms never occur\n",
        "  if n_1 == 0:\n",
        "    spam_count += 1\n",
        "    legit_count += 1\n",
        "    n_1 = spam_count + legit_count\n",
        "    n_0 = n_email - n_1\n",
        "\n",
        "  if n_0 == 0:   # all the email contain this term\n",
        "    continue\n",
        "\n",
        "  H_s0 = ((n_spam-spam_count)/n_email) * (np.log((n_spam-spam_count)/n_0))  # spam without term\n",
        "  H_s1 = (spam_count/n_email) * (np.log(spam_count/n_1))   # spam with term\n",
        "  H_l0 = ((n_legit-legit_count)/n_email) * (np.log((n_legit-legit_count)/n_0))  # legit without term\n",
        "  H_l1 = (legit_count/n_email) * (np.log(legit_count/n_1))   # legit with term\n",
        "\n",
        "  H_term = (-1) * (H_s0 + H_s1 + H_l0 + H_l1)    # entropy(uncertainty) after this term\n",
        "\n",
        "  ig = HC - H_term             # information gain\n",
        "  IG[term] = [spam_count, legit_count, ig]"
      ],
      "execution_count": null,
      "outputs": [
        {
          "output_type": "stream",
          "text": [
            "/usr/local/lib/python3.6/dist-packages/ipykernel_launcher.py:29: RuntimeWarning: divide by zero encountered in log\n",
            "/usr/local/lib/python3.6/dist-packages/ipykernel_launcher.py:29: RuntimeWarning: invalid value encountered in double_scalars\n",
            "/usr/local/lib/python3.6/dist-packages/ipykernel_launcher.py:31: RuntimeWarning: divide by zero encountered in log\n",
            "/usr/local/lib/python3.6/dist-packages/ipykernel_launcher.py:31: RuntimeWarning: invalid value encountered in double_scalars\n"
          ],
          "name": "stderr"
        }
      ]
    },
    {
      "cell_type": "code",
      "metadata": {
        "id": "e_rjxy7LdJbx",
        "outputId": "fd496ff9-ab3d-4b4b-9ba9-36a210653229",
        "colab": {
          "base_uri": "https://localhost:8080/",
          "height": 460
        }
      },
      "source": [
        "# sort IG value\n",
        "df = pd.DataFrame(data=IG.values(), index=IG.keys(), columns=['#spam with term', '#legit with term', 'IG'])\n",
        "df = df[df['IG'] != -np.inf]\n",
        "df.sort_values(by=['IG'], inplace=True, ascending=False)\n",
        "print('Total number of spam email:', n_spam)\n",
        "print('Total number of legit email:', n_legit)\n",
        "df"
      ],
      "execution_count": null,
      "outputs": [
        {
          "output_type": "stream",
          "text": [
            "Total number of spam email: 432\n",
            "Total number of legit email: 2170\n"
          ],
          "name": "stdout"
        },
        {
          "output_type": "execute_result",
          "data": {
            "text/html": [
              "<div>\n",
              "<style scoped>\n",
              "    .dataframe tbody tr th:only-of-type {\n",
              "        vertical-align: middle;\n",
              "    }\n",
              "\n",
              "    .dataframe tbody tr th {\n",
              "        vertical-align: top;\n",
              "    }\n",
              "\n",
              "    .dataframe thead th {\n",
              "        text-align: right;\n",
              "    }\n",
              "</style>\n",
              "<table border=\"1\" class=\"dataframe\">\n",
              "  <thead>\n",
              "    <tr style=\"text-align: right;\">\n",
              "      <th></th>\n",
              "      <th>#spam with term</th>\n",
              "      <th>#legit with term</th>\n",
              "      <th>IG</th>\n",
              "    </tr>\n",
              "  </thead>\n",
              "  <tbody>\n",
              "    <tr>\n",
              "      <th>language</th>\n",
              "      <td>7</td>\n",
              "      <td>1453</td>\n",
              "      <td>0.142768</td>\n",
              "    </tr>\n",
              "    <tr>\n",
              "      <th>remove</th>\n",
              "      <td>186</td>\n",
              "      <td>23</td>\n",
              "      <td>0.117098</td>\n",
              "    </tr>\n",
              "    <tr>\n",
              "      <th>free</th>\n",
              "      <td>253</td>\n",
              "      <td>138</td>\n",
              "      <td>0.113103</td>\n",
              "    </tr>\n",
              "    <tr>\n",
              "      <th>university</th>\n",
              "      <td>17</td>\n",
              "      <td>1276</td>\n",
              "      <td>0.100511</td>\n",
              "    </tr>\n",
              "    <tr>\n",
              "      <th>money</th>\n",
              "      <td>169</td>\n",
              "      <td>58</td>\n",
              "      <td>0.082261</td>\n",
              "    </tr>\n",
              "    <tr>\n",
              "      <th>...</th>\n",
              "      <td>...</td>\n",
              "      <td>...</td>\n",
              "      <td>...</td>\n",
              "    </tr>\n",
              "    <tr>\n",
              "      <th>tonus</th>\n",
              "      <td>0</td>\n",
              "      <td>3</td>\n",
              "      <td>NaN</td>\n",
              "    </tr>\n",
              "    <tr>\n",
              "      <th>shandong</th>\n",
              "      <td>0</td>\n",
              "      <td>1</td>\n",
              "      <td>NaN</td>\n",
              "    </tr>\n",
              "    <tr>\n",
              "      <th>circumscriptional</th>\n",
              "      <td>0</td>\n",
              "      <td>1</td>\n",
              "      <td>NaN</td>\n",
              "    </tr>\n",
              "    <tr>\n",
              "      <th>seretha</th>\n",
              "      <td>0</td>\n",
              "      <td>1</td>\n",
              "      <td>NaN</td>\n",
              "    </tr>\n",
              "    <tr>\n",
              "      <th>dissop</th>\n",
              "      <td>0</td>\n",
              "      <td>1</td>\n",
              "      <td>NaN</td>\n",
              "    </tr>\n",
              "  </tbody>\n",
              "</table>\n",
              "<p>46114 rows × 3 columns</p>\n",
              "</div>"
            ],
            "text/plain": [
              "                   #spam with term  #legit with term        IG\n",
              "language                         7              1453  0.142768\n",
              "remove                         186                23  0.117098\n",
              "free                           253               138  0.113103\n",
              "university                      17              1276  0.100511\n",
              "money                          169                58  0.082261\n",
              "...                            ...               ...       ...\n",
              "tonus                            0                 3       NaN\n",
              "shandong                         0                 1       NaN\n",
              "circumscriptional                0                 1       NaN\n",
              "seretha                          0                 1       NaN\n",
              "dissop                           0                 1       NaN\n",
              "\n",
              "[46114 rows x 3 columns]"
            ]
          },
          "metadata": {
            "tags": []
          },
          "execution_count": 65
        }
      ]
    },
    {
      "cell_type": "code",
      "metadata": {
        "id": "VNOMw_TYYHit"
      },
      "source": [
        "df.to_csv('terms.csv')"
      ],
      "execution_count": null,
      "outputs": []
    },
    {
      "cell_type": "markdown",
      "metadata": {
        "id": "yGcPsh3PeZaz"
      },
      "source": [
        "#Run code from here\n",
        "##2. Three classifiers"
      ]
    },
    {
      "cell_type": "code",
      "metadata": {
        "id": "_yyDHL2gjjJL"
      },
      "source": [
        "n_spam = 432           # number of spam emails\n",
        "n_legit = 2170            # number of legit emails\n",
        "n_email = n_spam + n_legit      # total number of emails"
      ],
      "execution_count": null,
      "outputs": []
    },
    {
      "cell_type": "code",
      "metadata": {
        "id": "7D95kH06mfRU",
        "outputId": "de68c552-8654-467a-e498-a82b0b29e019",
        "colab": {
          "base_uri": "https://localhost:8080/",
          "height": 394
        }
      },
      "source": [
        "# read the IG data\n",
        "df = pd.read_csv('terms.csv')\n",
        "#df = pd.read_excel('terms.xlsx')\n",
        "df.index = df['Unnamed: 0']\n",
        "df.drop(['Unnamed: 0'], axis=1, inplace=True)\n",
        "\n",
        "# get topN terms, N = 10, 100, 1000\n",
        "df_1 = df.iloc[0:10]\n",
        "df_2 = df.iloc[0:100]\n",
        "df_3 = df.iloc[0:1000]\n",
        "#df_4 = df.iloc[0:5000]\n",
        "df_1"
      ],
      "execution_count": null,
      "outputs": [
        {
          "output_type": "execute_result",
          "data": {
            "text/html": [
              "<div>\n",
              "<style scoped>\n",
              "    .dataframe tbody tr th:only-of-type {\n",
              "        vertical-align: middle;\n",
              "    }\n",
              "\n",
              "    .dataframe tbody tr th {\n",
              "        vertical-align: top;\n",
              "    }\n",
              "\n",
              "    .dataframe thead th {\n",
              "        text-align: right;\n",
              "    }\n",
              "</style>\n",
              "<table border=\"1\" class=\"dataframe\">\n",
              "  <thead>\n",
              "    <tr style=\"text-align: right;\">\n",
              "      <th></th>\n",
              "      <th>#spam with term</th>\n",
              "      <th>#legit with term</th>\n",
              "      <th>IG</th>\n",
              "    </tr>\n",
              "    <tr>\n",
              "      <th>Unnamed: 0</th>\n",
              "      <th></th>\n",
              "      <th></th>\n",
              "      <th></th>\n",
              "    </tr>\n",
              "  </thead>\n",
              "  <tbody>\n",
              "    <tr>\n",
              "      <th>language</th>\n",
              "      <td>7</td>\n",
              "      <td>1453</td>\n",
              "      <td>0.142768</td>\n",
              "    </tr>\n",
              "    <tr>\n",
              "      <th>remove</th>\n",
              "      <td>186</td>\n",
              "      <td>23</td>\n",
              "      <td>0.117098</td>\n",
              "    </tr>\n",
              "    <tr>\n",
              "      <th>free</th>\n",
              "      <td>253</td>\n",
              "      <td>138</td>\n",
              "      <td>0.113103</td>\n",
              "    </tr>\n",
              "    <tr>\n",
              "      <th>university</th>\n",
              "      <td>17</td>\n",
              "      <td>1276</td>\n",
              "      <td>0.100511</td>\n",
              "    </tr>\n",
              "    <tr>\n",
              "      <th>money</th>\n",
              "      <td>169</td>\n",
              "      <td>58</td>\n",
              "      <td>0.082261</td>\n",
              "    </tr>\n",
              "    <tr>\n",
              "      <th>click</th>\n",
              "      <td>117</td>\n",
              "      <td>13</td>\n",
              "      <td>0.070879</td>\n",
              "    </tr>\n",
              "    <tr>\n",
              "      <th>market</th>\n",
              "      <td>132</td>\n",
              "      <td>41</td>\n",
              "      <td>0.064122</td>\n",
              "    </tr>\n",
              "    <tr>\n",
              "      <th>business</th>\n",
              "      <td>143</td>\n",
              "      <td>67</td>\n",
              "      <td>0.060185</td>\n",
              "    </tr>\n",
              "    <tr>\n",
              "      <th>today</th>\n",
              "      <td>144</td>\n",
              "      <td>79</td>\n",
              "      <td>0.056415</td>\n",
              "    </tr>\n",
              "    <tr>\n",
              "      <th>$</th>\n",
              "      <td>244</td>\n",
              "      <td>345</td>\n",
              "      <td>0.055896</td>\n",
              "    </tr>\n",
              "  </tbody>\n",
              "</table>\n",
              "</div>"
            ],
            "text/plain": [
              "            #spam with term  #legit with term        IG\n",
              "Unnamed: 0                                             \n",
              "language                  7              1453  0.142768\n",
              "remove                  186                23  0.117098\n",
              "free                    253               138  0.113103\n",
              "university               17              1276  0.100511\n",
              "money                   169                58  0.082261\n",
              "click                   117                13  0.070879\n",
              "market                  132                41  0.064122\n",
              "business                143                67  0.060185\n",
              "today                   144                79  0.056415\n",
              "$                       244               345  0.055896"
            ]
          },
          "metadata": {
            "tags": []
          },
          "execution_count": 33
        }
      ]
    },
    {
      "cell_type": "markdown",
      "metadata": {
        "id": "P67OHftinyAg"
      },
      "source": [
        "## Bernoulli NB classifier with binary features"
      ]
    },
    {
      "cell_type": "code",
      "metadata": {
        "id": "PQ_Nzrxr8zsQ"
      },
      "source": [
        "# build Bernoulli NB classifier\n",
        "def Bern_NB(text, df, n_spam=n_spam, n_legit=n_legit, n_email=n_email):\n",
        "  text = clean_text(text)\n",
        "  Pr_s = n_spam/n_email\n",
        "  Pr_l = n_legit/n_email\n",
        "  Pr_is = 1\n",
        "  Pr_il = 1\n",
        "  \n",
        "  for i in range(len(df)):\n",
        "    spam_count = df.iloc[i][0]      # get the number of spam with term i \n",
        "    legit_count = df.iloc[i][1]      # get the number of legit with term i \n",
        "\n",
        "    if df.index[i] in text:         # this email has term i \n",
        "      Pr_is = ((spam_count+1)/(n_spam+2))*Pr_is\n",
        "      Pr_il = ((legit_count+1)/(n_legit+2))*Pr_il\n",
        "    else:                     # this email without term i\n",
        "      Pr_is = (1-((spam_count+1)/(n_spam+2)))*Pr_is\n",
        "      Pr_il = (1-((legit_count+1)/(n_legit+2)))*Pr_il\n",
        "\n",
        "  Pr_si = (Pr_is * Pr_s)#/Pr_i       # Pr of spam\n",
        "  Pr_li = (Pr_il * Pr_l)#/Pr_i       # Pr of legit\n",
        "\n",
        "  return Pr_si/Pr_li"
      ],
      "execution_count": null,
      "outputs": []
    },
    {
      "cell_type": "markdown",
      "metadata": {
        "id": "p_TYt_dQO5q9"
      },
      "source": [
        "##Multinomial NB with binary features"
      ]
    },
    {
      "cell_type": "code",
      "metadata": {
        "id": "uSAceYFoaDcX",
        "outputId": "d47c6bdf-eff0-4713-8d4f-3bf7c5addbe2",
        "colab": {
          "base_uri": "https://localhost:8080/",
          "height": 53
        }
      },
      "source": [
        "'''\n",
        "# compute the number of occurrences for each term in spam and ham\n",
        "legit = []\n",
        "spam = []\n",
        "\n",
        "# read the train data and split them into spam and legit\n",
        "for i in range(1, 10):\n",
        "  root = '/content/drive/My Drive/Colab Notebooks/data/lemm_stop/part' + str(i)\n",
        "  file_names = os.listdir(root)\n",
        "\n",
        "  for file in file_names:\n",
        "    f = open(root + '/' + file, 'r')\n",
        "    text = f.read()\n",
        "    #corpus = corpus + text\n",
        "    text = clean_text1(text)\n",
        "    if file[0] != 's':\n",
        "      legit.append(text)\n",
        "    else:\n",
        "      spam.append(text)\n",
        "    f.close()\n",
        "\n",
        "print(len(spam))\n",
        "print(len(legit))\n",
        "'''"
      ],
      "execution_count": null,
      "outputs": [
        {
          "output_type": "stream",
          "text": [
            "432\n",
            "2170\n"
          ],
          "name": "stdout"
        }
      ]
    },
    {
      "cell_type": "code",
      "metadata": {
        "id": "5IGPKC0uWAqr"
      },
      "source": [
        "'''\n",
        "occur = {}\n",
        "for term in df_3.index:\n",
        "  #term = term.replace(\"'\", \"\")\n",
        "  spam_occ = 0    # number of spam email with term\n",
        "  legit_occ = 0    # number of legit email with term\n",
        "  # compute the number of legit and spam with each term in corpus\n",
        "  for i in range(len(spam)):\n",
        "    for j in range(len(spam[i])):\n",
        "      if term == spam[i][j]:\n",
        "        spam_occ += 1\n",
        "  for i in range(len(legit)):\n",
        "    for j in range(len(legit[i])):\n",
        "      if term == legit[i][j]:\n",
        "        legit_occ += 1\n",
        "  occur[term] = [spam_occ, legit_occ]\n",
        "'''"
      ],
      "execution_count": null,
      "outputs": []
    },
    {
      "cell_type": "code",
      "metadata": {
        "id": "MEE-FgVNhbG7"
      },
      "source": [
        "'''\n",
        "df0 = pd.DataFrame(data=occur.values(), index=occur.keys(), columns=['#term in spam', '#term in legit'])\n",
        "df0.to_csv('term1000_occur.csv')\n",
        "'''"
      ],
      "execution_count": null,
      "outputs": []
    },
    {
      "cell_type": "code",
      "metadata": {
        "id": "H2S91zl6c7m9",
        "outputId": "7f95d365-d192-4797-9807-0c8657135063",
        "colab": {
          "base_uri": "https://localhost:8080/",
          "height": 431
        }
      },
      "source": [
        "# read the 1000 terms occurrence data \n",
        "df0 = pd.read_csv('term1000_occur.csv')\n",
        "df0.index = df0['Unnamed: 0']\n",
        "df0.drop(['Unnamed: 0'], axis=1, inplace=True)\n",
        "'''\n",
        "nterm_s = 0\n",
        "nterm_l = 0\n",
        "for i in range(len(spam)):\n",
        "  nterm_s += len(spam[i])\n",
        "for i in range(len(legit)):\n",
        "  nterm_l += len(legit[i])\n",
        "'''\n",
        "nterm_s = 454430\n",
        "nterm_l = 1488668\n",
        "print('Total number of terms in spam:', nterm_s)\n",
        "print('Total number of terms in legit:', nterm_l)\n",
        "\n",
        "# get topN terms, N = 10, 100, 1000\n",
        "df1 = df0.iloc[0:10]\n",
        "df2 = df0.iloc[0:100]\n",
        "df3 = df0\n",
        "df1"
      ],
      "execution_count": null,
      "outputs": [
        {
          "output_type": "stream",
          "text": [
            "Total number of terms in spam: 454430\n",
            "Total number of terms in legit: 1488668\n"
          ],
          "name": "stdout"
        },
        {
          "output_type": "execute_result",
          "data": {
            "text/html": [
              "<div>\n",
              "<style scoped>\n",
              "    .dataframe tbody tr th:only-of-type {\n",
              "        vertical-align: middle;\n",
              "    }\n",
              "\n",
              "    .dataframe tbody tr th {\n",
              "        vertical-align: top;\n",
              "    }\n",
              "\n",
              "    .dataframe thead th {\n",
              "        text-align: right;\n",
              "    }\n",
              "</style>\n",
              "<table border=\"1\" class=\"dataframe\">\n",
              "  <thead>\n",
              "    <tr style=\"text-align: right;\">\n",
              "      <th></th>\n",
              "      <th>#term in spam</th>\n",
              "      <th>#term in legit</th>\n",
              "    </tr>\n",
              "    <tr>\n",
              "      <th>Unnamed: 0</th>\n",
              "      <th></th>\n",
              "      <th></th>\n",
              "    </tr>\n",
              "  </thead>\n",
              "  <tbody>\n",
              "    <tr>\n",
              "      <th>language</th>\n",
              "      <td>19</td>\n",
              "      <td>7593</td>\n",
              "    </tr>\n",
              "    <tr>\n",
              "      <th>remove</th>\n",
              "      <td>415</td>\n",
              "      <td>30</td>\n",
              "    </tr>\n",
              "    <tr>\n",
              "      <th>free</th>\n",
              "      <td>905</td>\n",
              "      <td>196</td>\n",
              "    </tr>\n",
              "    <tr>\n",
              "      <th>university</th>\n",
              "      <td>39</td>\n",
              "      <td>5252</td>\n",
              "    </tr>\n",
              "    <tr>\n",
              "      <th>money</th>\n",
              "      <td>903</td>\n",
              "      <td>75</td>\n",
              "    </tr>\n",
              "    <tr>\n",
              "      <th>click</th>\n",
              "      <td>232</td>\n",
              "      <td>22</td>\n",
              "    </tr>\n",
              "    <tr>\n",
              "      <th>market</th>\n",
              "      <td>454</td>\n",
              "      <td>58</td>\n",
              "    </tr>\n",
              "    <tr>\n",
              "      <th>business</th>\n",
              "      <td>734</td>\n",
              "      <td>90</td>\n",
              "    </tr>\n",
              "    <tr>\n",
              "      <th>today</th>\n",
              "      <td>243</td>\n",
              "      <td>104</td>\n",
              "    </tr>\n",
              "    <tr>\n",
              "      <th>$</th>\n",
              "      <td>4402</td>\n",
              "      <td>1237</td>\n",
              "    </tr>\n",
              "  </tbody>\n",
              "</table>\n",
              "</div>"
            ],
            "text/plain": [
              "            #term in spam  #term in legit\n",
              "Unnamed: 0                               \n",
              "language               19            7593\n",
              "remove                415              30\n",
              "free                  905             196\n",
              "university             39            5252\n",
              "money                 903              75\n",
              "click                 232              22\n",
              "market                454              58\n",
              "business              734              90\n",
              "today                 243             104\n",
              "$                    4402            1237"
            ]
          },
          "metadata": {
            "tags": []
          },
          "execution_count": 36
        }
      ]
    },
    {
      "cell_type": "code",
      "metadata": {
        "id": "dpz7-XdcOj1P"
      },
      "source": [
        "def Multinomial_B(text, df, n_spam=n_spam, n_legit=n_legit, n_email=n_email, nterm_s=nterm_s, nterm_l=nterm_l):\n",
        "  text = clean_text(text)     # unique terms\n",
        "  Pr_s = n_spam/n_email\n",
        "  Pr_l = n_legit/n_email\n",
        "  Pr_il = 1\n",
        "  Pr_is = 1\n",
        "\n",
        "  for i in range(len(df)):\n",
        "    if df.index[i] in text:\n",
        "      Pr_is = ((df.iloc[i][0]+1)/(nterm_s+2))*Pr_is\n",
        "      Pr_il = ((df.iloc[i][1]+1)/(nterm_l+2))*Pr_il\n",
        "\n",
        "  Pr_si = Pr_is * Pr_s     # Pr of spam\n",
        "  Pr_li = Pr_il * Pr_l     # Pr of legit\n",
        "\n",
        "  return Pr_si/Pr_li"
      ],
      "execution_count": null,
      "outputs": []
    },
    {
      "cell_type": "markdown",
      "metadata": {
        "id": "GngQyHchemUX"
      },
      "source": [
        "##Multinomial NB with TF\n",
        "\n"
      ]
    },
    {
      "cell_type": "code",
      "metadata": {
        "id": "fG-gg155ej3J"
      },
      "source": [
        "def Multinomial_TF(text, df, n_spam=n_spam, n_legit=n_legit, n_email=n_email, nterm_s=nterm_s, nterm_l=nterm_l):\n",
        "  text = clean_text1(text)\n",
        "  Pr_s = n_spam/n_email\n",
        "  Pr_l = n_legit/n_email\n",
        "  Pr_il = 1\n",
        "  Pr_is = 1\n",
        "\n",
        "  for i in range(len(df)):\n",
        "    count = 0\n",
        "    for word in text:\n",
        "      if df.index[i] == word:\n",
        "        count += 1\n",
        "    Pr_ist = ((df.iloc[i][0]+1)/(nterm_s+2))**count\n",
        "    Pr_is = Pr_ist * Pr_is\n",
        "    Pr_ilt = ((df.iloc[i][1]+1)/(nterm_l+2))**count\n",
        "    Pr_il = Pr_ilt * Pr_il\n",
        "\n",
        "  Pr_si = Pr_is * Pr_s     # Pr of spam\n",
        "  Pr_li = Pr_il * Pr_l     # Pr of legit\n",
        "\n",
        "  return Pr_si/Pr_li"
      ],
      "execution_count": null,
      "outputs": []
    },
    {
      "cell_type": "code",
      "metadata": {
        "id": "WkO9OAZlkXYD",
        "outputId": "f13d1eae-d2c8-4ae2-fdc1-a132b7d41dce",
        "colab": {
          "base_uri": "https://localhost:8080/",
          "height": 92
        }
      },
      "source": [
        "# test\n",
        "result = []\n",
        "result_true = []\n",
        "\n",
        "# read the test data and split them into spam and legit\n",
        "root = '/content/drive/My Drive/Colab Notebooks/data/lemm_stop/part10'\n",
        "file_names = os.listdir(root)\n",
        "#file_names = file_names[150:]\n",
        "\n",
        "for file in file_names:\n",
        "  f = open(root + '/' + file, 'r')\n",
        "  text = f.read()\n",
        "  if file[0] != 's':\n",
        "    result_true.append(0)\n",
        "  else:\n",
        "    result_true.append(1)\n",
        "  f.close()\n",
        "\n",
        "  # prediction\n",
        "  #pred = Bern_NB(text, df_3)\n",
        "  #pred = Multinomial_B(text, df1)\n",
        "  pred = Multinomial_TF(text, df3)\n",
        "\n",
        "  if pred > 1:\n",
        "    result.append(1)\n",
        "  else:\n",
        "    result.append(0)\n",
        "\n",
        "print('Precision:', precision_score(result_true, result))\n",
        "print('Recall:', recall_score(result_true, result))"
      ],
      "execution_count": null,
      "outputs": [
        {
          "output_type": "stream",
          "text": [
            "/usr/local/lib/python3.6/dist-packages/ipykernel_launcher.py:21: RuntimeWarning: invalid value encountered in double_scalars\n"
          ],
          "name": "stderr"
        },
        {
          "output_type": "stream",
          "text": [
            "Precision: 0.9666666666666667\n",
            "Recall: 0.5918367346938775\n"
          ],
          "name": "stdout"
        }
      ]
    },
    {
      "cell_type": "markdown",
      "metadata": {
        "id": "KZO8WmU1buxN"
      },
      "source": [
        "**REPORT**\n",
        "\n",
        "**N = 10:**\n",
        "\n",
        "Bernoulli_Binary: Precision: 0.89;  Recall: 0.67\n",
        "\n",
        "Multinomial_Binary: Precision: 0.76;  Recall: 0.92\n",
        "\n",
        "Multinomial_TF: Precision: 0.79;  Recall: 0.92\n",
        "\n",
        "**N = 100:**\n",
        "\n",
        "Bernoulli_Binary: Precision: 1.00;  Recall: 0.65\n",
        "\n",
        "Multinomial_Binary: Precision: 0.76;  Recall: 0.96\n",
        "\n",
        "Multinomial_TF: Precision: 0.80;  Recall: 0.90\n",
        "\n",
        "**N = 1000:**\n",
        "\n",
        "Bernoulli_Binary: Precision: 1.00;  Recall: 0.55\n",
        "\n",
        "Multinomial_Binary: Precision: 0.97;  Recall: 0.69\n",
        "\n",
        "Multinomial_TF: Precision: 0.94;  Recall: 0.59\n",
        "\n",
        "* The algorithm based on Binary features run faster than that based on TF."
      ]
    },
    {
      "cell_type": "code",
      "metadata": {
        "id": "iT-CEdyjKkDC",
        "outputId": "097e4f5d-d3f8-4472-83df-d7f4e129e3fb",
        "colab": {
          "base_uri": "https://localhost:8080/",
          "height": 73
        }
      },
      "source": [
        "print([result])\n",
        "print([result_true])"
      ],
      "execution_count": null,
      "outputs": [
        {
          "output_type": "stream",
          "text": [
            "[[1, 0, 0, 0, 0, 0, 0, 0, 0, 0, 0, 0, 0, 0, 0, 0, 0, 0, 0, 0, 0, 0, 0, 0, 0, 0, 0, 0, 0, 0, 0, 0, 0, 0, 1, 0, 0, 0, 0, 0, 0, 0, 0, 0, 0, 0, 0, 0, 0, 0, 0, 0, 0, 0, 0, 1, 0, 0, 0, 0, 0, 0, 0, 0, 0, 0, 0, 0, 0, 0, 0, 0, 0, 0, 0, 0, 0, 0, 0, 0, 0, 0, 0, 0, 0, 0, 0, 0, 0, 0, 0, 0, 0, 0, 0, 0, 0, 0, 0, 0, 0, 0, 0, 0, 0, 0, 0, 0, 0, 0, 0, 0, 0, 0, 0, 0, 0, 1, 1, 0, 0, 0, 0, 0, 0, 0, 0, 0, 0, 0, 0, 0, 0, 0, 0, 0, 0, 0, 0, 0, 0, 0, 0, 0, 0, 0, 0, 0, 0, 0, 0, 0, 0, 0, 0, 0, 0, 0, 1, 1, 0, 0, 0, 0, 0, 0, 0, 0, 0, 0, 0, 0, 0, 0, 0, 0, 0, 0, 0, 1, 0, 0, 0, 0, 0, 0, 0, 1, 0, 0, 0, 0, 0, 0, 0, 0, 0, 0, 0, 0, 0, 0, 0, 0, 0, 0, 0, 0, 0, 1, 0, 0, 0, 0, 1, 0, 0, 0, 0, 1, 0, 0, 1, 0, 0, 1, 0, 0, 0, 1, 1, 0, 0, 1, 1, 0, 0, 0, 1, 1, 0, 0, 0, 0, 1, 1, 0, 1, 0, 1, 1, 1, 1, 1, 1, 1, 1, 1, 1, 1, 1, 1, 1, 1, 0, 1, 1, 1, 1, 0, 1, 1, 1, 1, 1, 1, 1, 1, 1, 1, 1, 1, 1, 1, 1, 1, 1, 1, 1, 0, 1]]\n",
            "[[0, 0, 0, 0, 0, 0, 0, 0, 0, 0, 0, 0, 0, 0, 0, 0, 0, 0, 0, 0, 0, 0, 0, 0, 0, 0, 0, 0, 0, 0, 0, 0, 0, 0, 0, 0, 0, 0, 0, 0, 0, 0, 0, 0, 0, 0, 0, 0, 0, 0, 0, 0, 0, 0, 0, 0, 0, 0, 0, 0, 0, 0, 0, 0, 0, 0, 0, 0, 0, 0, 0, 0, 0, 0, 0, 0, 0, 0, 0, 0, 0, 0, 0, 0, 0, 0, 0, 0, 0, 0, 0, 0, 0, 0, 0, 0, 0, 0, 0, 0, 0, 0, 0, 0, 0, 0, 0, 0, 0, 0, 0, 0, 0, 0, 0, 0, 0, 0, 0, 0, 0, 0, 0, 0, 0, 0, 0, 0, 0, 0, 0, 0, 0, 0, 0, 0, 0, 0, 0, 0, 0, 0, 0, 0, 0, 0, 0, 0, 0, 0, 0, 0, 0, 0, 0, 0, 0, 0, 0, 0, 0, 0, 0, 0, 0, 0, 0, 0, 0, 0, 0, 0, 0, 0, 0, 0, 0, 0, 0, 0, 0, 0, 0, 0, 0, 0, 0, 0, 0, 0, 0, 0, 0, 0, 0, 0, 0, 0, 0, 0, 0, 0, 0, 0, 0, 0, 0, 0, 0, 0, 0, 0, 0, 0, 0, 0, 0, 0, 0, 0, 0, 0, 0, 0, 0, 0, 0, 0, 0, 1, 1, 0, 0, 1, 1, 0, 0, 0, 1, 1, 0, 0, 0, 0, 0, 1, 0, 1, 0, 1, 1, 1, 1, 1, 1, 1, 1, 1, 1, 1, 1, 1, 1, 1, 1, 1, 1, 1, 1, 1, 1, 1, 1, 1, 1, 1, 1, 1, 1, 1, 1, 1, 1, 1, 1, 1, 1, 1, 1, 0, 1]]\n"
          ],
          "name": "stdout"
        }
      ]
    }
  ]
}