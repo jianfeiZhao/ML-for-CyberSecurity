{
  "nbformat": 4,
  "nbformat_minor": 0,
  "metadata": {
    "colab": {
      "name": "Lab2.ipynb",
      "provenance": [],
      "collapsed_sections": []
    },
    "kernelspec": {
      "name": "python3",
      "display_name": "Python 3"
    }
  },
  "cells": [
    {
      "cell_type": "markdown",
      "metadata": {
        "id": "SU3WJDnsZmm-"
      },
      "source": [
        "# Adversarial Attacks on Deep Neural Networks"
      ]
    },
    {
      "cell_type": "code",
      "metadata": {
        "id": "hcdiFaP3Z6Os"
      },
      "source": [
        "import tensorflow as tf\n",
        "import matplotlib.pyplot as plt\n",
        "import numpy as np"
      ],
      "execution_count": 1,
      "outputs": []
    },
    {
      "cell_type": "markdown",
      "metadata": {
        "id": "2jpXAlB0ZpFw"
      },
      "source": [
        "## Baseline DNN for MINIST dataset"
      ]
    },
    {
      "cell_type": "code",
      "metadata": {
        "id": "Ws7v59-cYuOP",
        "colab": {
          "base_uri": "https://localhost:8080/"
        },
        "outputId": "8ec1fb60-0051-4b2f-eae5-db959e3051cf"
      },
      "source": [
        "# load dataset\n",
        "mnist = tf.keras.datasets.mnist\n",
        "\n",
        "(x_train, y_train), (x_test, y_test) = mnist.load_data()\n",
        "x_train, x_test = x_train / 255.0, x_test / 255.0"
      ],
      "execution_count": 2,
      "outputs": [
        {
          "output_type": "stream",
          "text": [
            "Downloading data from https://storage.googleapis.com/tensorflow/tf-keras-datasets/mnist.npz\n",
            "11493376/11490434 [==============================] - 0s 0us/step\n"
          ],
          "name": "stdout"
        }
      ]
    },
    {
      "cell_type": "code",
      "metadata": {
        "id": "b1OSmbHjaJS3"
      },
      "source": [
        "# design the baseline DNN\n",
        "model = tf.keras.models.Sequential([\n",
        "  tf.keras.layers.Flatten(input_shape=(28, 28)),\n",
        "  tf.keras.layers.Dense(300, activation='relu'),\n",
        "  tf.keras.layers.Dropout(0.2),\n",
        "  tf.keras.layers.Dense(10)\n",
        "  #tf.keras.layers.Softmax()\n",
        "])\n",
        "\n",
        "# define the loss function\n",
        "loss_fn = tf.keras.losses.SparseCategoricalCrossentropy(from_logits=True)\n",
        "\n",
        "model.compile(optimizer='adam',\n",
        "        loss=loss_fn,\n",
        "        metrics=['accuracy'])"
      ],
      "execution_count": 3,
      "outputs": []
    },
    {
      "cell_type": "code",
      "metadata": {
        "id": "iMMlTbv7ahGm",
        "colab": {
          "base_uri": "https://localhost:8080/"
        },
        "outputId": "7a195408-0886-4294-ed1b-f4cfc46721e5"
      },
      "source": [
        "# training\n",
        "model.fit(x_train, y_train, epochs=5)"
      ],
      "execution_count": 4,
      "outputs": [
        {
          "output_type": "stream",
          "text": [
            "Epoch 1/5\n",
            "1875/1875 [==============================] - 5s 3ms/step - loss: 0.2408 - accuracy: 0.9295\n",
            "Epoch 2/5\n",
            "1875/1875 [==============================] - 5s 3ms/step - loss: 0.1097 - accuracy: 0.9669\n",
            "Epoch 3/5\n",
            "1875/1875 [==============================] - 6s 3ms/step - loss: 0.0795 - accuracy: 0.9747\n",
            "Epoch 4/5\n",
            "1875/1875 [==============================] - 6s 3ms/step - loss: 0.0625 - accuracy: 0.9807\n",
            "Epoch 5/5\n",
            "1875/1875 [==============================] - 5s 3ms/step - loss: 0.0499 - accuracy: 0.9840\n"
          ],
          "name": "stdout"
        },
        {
          "output_type": "execute_result",
          "data": {
            "text/plain": [
              "<tensorflow.python.keras.callbacks.History at 0x7f612681c630>"
            ]
          },
          "metadata": {
            "tags": []
          },
          "execution_count": 4
        }
      ]
    },
    {
      "cell_type": "code",
      "metadata": {
        "id": "gQgxN237apAQ",
        "colab": {
          "base_uri": "https://localhost:8080/"
        },
        "outputId": "ab368eb0-fe1e-44a2-92ca-e8a7d3680071"
      },
      "source": [
        "# use test data to evaluate the model\n",
        "result = model.evaluate(x_test,  y_test, verbose=2)\n",
        "acc1 = result[1]"
      ],
      "execution_count": 5,
      "outputs": [
        {
          "output_type": "stream",
          "text": [
            "313/313 - 0s - loss: 0.0666 - accuracy: 0.9794\n"
          ],
          "name": "stdout"
        }
      ]
    },
    {
      "cell_type": "markdown",
      "metadata": {
        "id": "ZzLTDZ6obvxK"
      },
      "source": [
        "## FGSM based untargeted attacks"
      ]
    },
    {
      "cell_type": "code",
      "metadata": {
        "id": "1Zh2k4lJ6zYm"
      },
      "source": [
        "##### perturbation on the test data\n",
        "\n",
        "# compute the sign of gradient to loss\n",
        "def grad_sign(x_test, y_test):\n",
        "  # loss based on y_test and prediction made for x_test\n",
        "  x_tensor = tf.convert_to_tensor(x_test, dtype=tf.float32)\n",
        "  with tf.GradientTape() as tape:\n",
        "    tape.watch(x_tensor)\n",
        "    output = model(x_tensor)\n",
        "    loss = loss_fn(y_test, output)\n",
        "  grad = tape.gradient(loss, x_tensor)\n",
        "  grad_sign = tf.sign(grad)\n",
        "  grad_sign = grad_sign.numpy()\n",
        "  return grad_sign\n",
        "\n",
        "def perturb(x_test=x_test, y_test=y_test, epsilon=0):\n",
        "  # FGSM for untargeted perturbation against x_test\n",
        "  x_p = np.clip(x_test + epsilon * grad_sign(x_test, y_test), 0, 1)\n",
        "  print('epsilon = {}'.format(epsilon*255))\n",
        "  plt.figure(figsize=(6,2))\n",
        "  for id in range(1,4):\n",
        "    plt.subplot(1,3,id)\n",
        "    plt.imshow(x_p[id])     # plot some perturbation results\n",
        "  return x_p"
      ],
      "execution_count": 6,
      "outputs": []
    },
    {
      "cell_type": "code",
      "metadata": {
        "id": "OwUQJ_JCUhAc",
        "colab": {
          "base_uri": "https://localhost:8080/",
          "height": 204
        },
        "outputId": "e24be8c0-5446-4e23-feed-700ddd0f5dce"
      },
      "source": [
        "x_p = perturb(epsilon = 50/255)      # do image perturbation, set epsilon = epsilon/255\n",
        "result = model.evaluate(x_p, y_test, verbose=2)\n",
        "acc2 = result[1]\n",
        "rate = (1 - acc2)/acc1      # success rate\n",
        "print('Success rate: ', rate)"
      ],
      "execution_count": 7,
      "outputs": [
        {
          "output_type": "stream",
          "text": [
            "epsilon = 50.0\n",
            "313/313 - 0s - loss: 11.1192 - accuracy: 0.0267\n",
            "Success rate:  0.9937717188156604\n"
          ],
          "name": "stdout"
        },
        {
          "output_type": "display_data",
          "data": {
            "image/png": "[encoded data removed]",
            "text/plain": [
              "<Figure size 432x144 with 3 Axes>"
            ]
          },
          "metadata": {
            "tags": [],
            "needs_background": "light"
          }
        }
      ]
    },
    {
      "cell_type": "markdown",
      "metadata": {
        "id": "rhyqKi3zgso-"
      },
      "source": [
        "**Report:**\n",
        "\n",
        "epsilon = 1, Success rate:  0.03\n",
        "\n",
        "epsilon = 5, Success rate:  0.076\n",
        "\n",
        "epsilon = 10, Success rate:  0.201\n",
        "\n",
        "epsilon = 20, Success rate:  0.631\n",
        "\n",
        "epsilon = 30, Success rate:  0.876\n",
        "\n",
        "epsilon = 40, Success rate:  0.966\n",
        "\n",
        "epsilon = 50, Success rate:  0.996\n",
        "\n"
      ]
    },
    {
      "cell_type": "markdown",
      "metadata": {
        "id": "r5Go3E_WlajZ"
      },
      "source": [
        "\n",
        "## FGSM based targeted attacks"
      ]
    },
    {
      "cell_type": "code",
      "metadata": {
        "id": "0vAkJIP6Ykz7"
      },
      "source": [
        "# construct the target number\n",
        "y_true = []\n",
        "for i in range(len(y_test)):\n",
        "  target = (y_test[i]+1)%10    # get the target number\n",
        "  y_true.append(target)\n",
        "y_true = np.array(y_true)"
      ],
      "execution_count": 8,
      "outputs": []
    },
    {
      "cell_type": "code",
      "metadata": {
        "id": "cz4iuC6HUOBj"
      },
      "source": [
        "# define targeted perturbation function\n",
        "def perturb_target(x_test=x_test, y_test=y_true, epsilon=0):\n",
        "  # FGSM for targeted perturbation against x_test\n",
        "  x_p = np.clip(x_test - epsilon * grad_sign(x_test, y_true), 0, 1)\n",
        "  print('epsilon = {}'.format(epsilon*255))\n",
        "  plt.figure(figsize=(6,2))\n",
        "  for id in range(1,4):\n",
        "    plt.subplot(1,3,id)\n",
        "    plt.imshow(x_p[id])     # plot some perturbation results\n",
        "  return x_p"
      ],
      "execution_count": 9,
      "outputs": []
    },
    {
      "cell_type": "code",
      "metadata": {
        "id": "NjL3uhdlXcbX",
        "colab": {
          "base_uri": "https://localhost:8080/",
          "height": 222
        },
        "outputId": "470cff7a-8309-4649-d015-a1eb7a226ad0"
      },
      "source": [
        "x_p = perturb_target(epsilon = 50/255)  # do image perturbation, set epsilon = epsilon/255\n",
        "\n",
        "result1 = model.evaluate(x_p, y_test, verbose=2)   # accuracy of prediction to original test labels\n",
        "result2 = model.evaluate(x_p, y_true, verbose=2)   # accuracy of prediction to targeted labels\n",
        "\n",
        "acc2 = result1[1]\n",
        "acc3 = result2[1]\n",
        "rate = acc3/acc1        # success rate\n",
        "print('Success rate: ', rate)"
      ],
      "execution_count": 10,
      "outputs": [
        {
          "output_type": "stream",
          "text": [
            "epsilon = 50.0\n",
            "313/313 - 0s - loss: 9.0288 - accuracy: 0.0363\n",
            "313/313 - 0s - loss: 1.6212 - accuracy: 0.6098\n",
            "Success rate:  0.6226260916082148\n"
          ],
          "name": "stdout"
        },
        {
          "output_type": "display_data",
          "data": {
            "image/png": "[encoded data removed]",
            "text/plain": [
              "<Figure size 432x144 with 3 Axes>"
            ]
          },
          "metadata": {
            "tags": [],
            "needs_background": "light"
          }
        }
      ]
    },
    {
      "cell_type": "markdown",
      "metadata": {
        "id": "mdtICUgbA2U_"
      },
      "source": [
        "**Report:**\n",
        "\n",
        "epsilon = 1, Success rate:  0.003\n",
        "\n",
        "epsilon = 5, Success rate:  0.009\n",
        "\n",
        "epsilon = 10, Success rate:  0.035\n",
        "\n",
        "epsilon = 20, Success rate:  0.220\n",
        "\n",
        "epsilon = 30, Success rate:  0.444\n",
        "\n",
        "epsilon = 40, Success rate:  0.594\n",
        "\n",
        "epsilon = 50, Success rate:  0.666"
      ]
    },
    {
      "cell_type": "markdown",
      "metadata": {
        "id": "fcYhZyO_IRGq"
      },
      "source": [
        "## Adversarial Retraining against Untargeted FGSM Attacks"
      ]
    },
    {
      "cell_type": "code",
      "metadata": {
        "id": "TaXsw-BeWnRr",
        "colab": {
          "base_uri": "https://localhost:8080/",
          "height": 167
        },
        "outputId": "c57325c3-e8e3-4706-a3e6-22d7c0b9ab81"
      },
      "source": [
        "# adversarially perturb the training set and append it to the original training set\n",
        "x_train_p = perturb(x_test=x_train, y_test=y_train, epsilon = 10/255)\n",
        "x_train_new = np.concatenate([x_train, x_train_p])\n",
        "y_train_new = np.concatenate([y_train, y_train])"
      ],
      "execution_count": 11,
      "outputs": [
        {
          "output_type": "stream",
          "text": [
            "epsilon = 10.0\n"
          ],
          "name": "stdout"
        },
        {
          "output_type": "display_data",
          "data": {
            "image/png": "[encoded data removed]",
            "text/plain": [
              "<Figure size 432x144 with 3 Axes>"
            ]
          },
          "metadata": {
            "tags": [],
            "needs_background": "light"
          }
        }
      ]
    },
    {
      "cell_type": "markdown",
      "metadata": {
        "id": "D1FwyGy-NRNk"
      },
      "source": [
        " ### Adversarially retrained DNN"
      ]
    },
    {
      "cell_type": "code",
      "metadata": {
        "id": "r1Wc4zu3R1jH"
      },
      "source": [
        "# design the baseline DNN\n",
        "model_new = tf.keras.models.Sequential([\n",
        "  tf.keras.layers.Flatten(input_shape=(28, 28)),\n",
        "  tf.keras.layers.Dense(300, activation='relu'),\n",
        "  tf.keras.layers.Dropout(0.2),\n",
        "  tf.keras.layers.Dense(10)\n",
        "])\n",
        "\n",
        "# define the loss function\n",
        "loss_fn = tf.keras.losses.SparseCategoricalCrossentropy(from_logits=True)\n",
        "\n",
        "model_new.compile(optimizer='adam',\n",
        "        loss=loss_fn,\n",
        "        metrics=['accuracy'])"
      ],
      "execution_count": 12,
      "outputs": []
    },
    {
      "cell_type": "code",
      "metadata": {
        "id": "cY2tu-8vJVRS",
        "colab": {
          "base_uri": "https://localhost:8080/"
        },
        "outputId": "e5ac9b88-bdbd-4804-ea6c-5d164c33be81"
      },
      "source": [
        "# retraining\n",
        "model_new.fit(x_train_new, y_train_new, epochs=3)"
      ],
      "execution_count": 13,
      "outputs": [
        {
          "output_type": "stream",
          "text": [
            "Epoch 1/3\n",
            "3750/3750 [==============================] - 10s 3ms/step - loss: 0.1569 - accuracy: 0.9546\n",
            "Epoch 2/3\n",
            "3750/3750 [==============================] - 11s 3ms/step - loss: 0.0595 - accuracy: 0.9812\n",
            "Epoch 3/3\n",
            "3750/3750 [==============================] - 11s 3ms/step - loss: 0.0412 - accuracy: 0.9868\n"
          ],
          "name": "stdout"
        },
        {
          "output_type": "execute_result",
          "data": {
            "text/plain": [
              "<tensorflow.python.keras.callbacks.History at 0x7f61229d3f98>"
            ]
          },
          "metadata": {
            "tags": []
          },
          "execution_count": 13
        }
      ]
    },
    {
      "cell_type": "code",
      "metadata": {
        "id": "03Cu7JrjKcuH",
        "colab": {
          "base_uri": "https://localhost:8080/"
        },
        "outputId": "d0da8783-6810-458d-ef2e-47a1c9dc98f0"
      },
      "source": [
        "# use clean test data to evaluate the retrained model\n",
        "result = model_new.evaluate(x_test, y_test, verbose=2)\n",
        "acc1 = result[1]"
      ],
      "execution_count": 14,
      "outputs": [
        {
          "output_type": "stream",
          "text": [
            "313/313 - 0s - loss: 0.0831 - accuracy: 0.9723\n"
          ],
          "name": "stdout"
        }
      ]
    },
    {
      "cell_type": "markdown",
      "metadata": {
        "id": "lrfm3L5pPDlX"
      },
      "source": [
        "**Report:**\n",
        "\n",
        " the classification accuracy of the adversarially retrained DNN on the original clean test dataset is ~0.98"
      ]
    },
    {
      "cell_type": "markdown",
      "metadata": {
        "id": "PBsf_91NbEb0"
      },
      "source": [
        "### Examine the robustness of the adversarial retrained DNN against untargeted perturbation"
      ]
    },
    {
      "cell_type": "code",
      "metadata": {
        "id": "jjQgwQxxPWic",
        "colab": {
          "base_uri": "https://localhost:8080/",
          "height": 204
        },
        "outputId": "d8832408-65c7-43c1-ba74-e1143db21ed7"
      },
      "source": [
        "###################### FGSM based untargeted attacks #########################\n",
        "x_p = perturb(epsilon = 50/255)\n",
        "result = model_new.evaluate(x_p, y_test, verbose=2)\n",
        "acc2 = result[1]\n",
        "rate = (1 - acc2)/acc1      # success rate\n",
        "print('Success rate: ', rate)"
      ],
      "execution_count": 15,
      "outputs": [
        {
          "output_type": "stream",
          "text": [
            "epsilon = 50.0\n",
            "313/313 - 0s - loss: 0.2273 - accuracy: 0.9714\n",
            "Success rate:  0.029414766736672343\n"
          ],
          "name": "stdout"
        },
        {
          "output_type": "display_data",
          "data": {
            "image/png": "[encoded data removed]",
            "text/plain": [
              "<Figure size 432x144 with 3 Axes>"
            ]
          },
          "metadata": {
            "tags": [],
            "needs_background": "light"
          }
        }
      ]
    },
    {
      "cell_type": "markdown",
      "metadata": {
        "id": "yPWoqHrgXDPr"
      },
      "source": [
        "**Report:**\n",
        "\n",
        "epsilon = 10.0, Success rate:  0.005\n",
        "\n",
        "epsilon = 100.0, Success rate:  0.083\n",
        "\n",
        "Adversarially retrained DNN is very robust against adversarial perturbations. When epsilon = 10, the success rate is very small compare to previous baseline DNN. Even when epsilon = 100, the success rate is only 0.083 which is quite small."
      ]
    },
    {
      "cell_type": "code",
      "metadata": {
        "id": "2iqQQWK9Rn7x"
      },
      "source": [
        ""
      ],
      "execution_count": 15,
      "outputs": []
    }
  ]
}