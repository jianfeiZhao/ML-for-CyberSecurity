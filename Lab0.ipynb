{
  "nbformat": 4,
  "nbformat_minor": 0,
  "metadata": {
    "colab": {
      "name": "Lab0.ipynb",
      "provenance": [],
      "include_colab_link": true
    },
    "kernelspec": {
      "name": "python3",
      "display_name": "Python 3"
    }
  },
  "cells": [
    {
      "cell_type": "markdown",
      "metadata": {
        "id": "view-in-github",
        "colab_type": "text"
      },
      "source": [
        "<a href=\"https://colab.research.google.com/github/jianfeiZhao/ML-for-CyberSecurity/blob/master/Lab0.ipynb\" target=\"_parent\"><img src=\"https://colab.research.google.com/assets/colab-badge.svg\" alt=\"Open In Colab\"/></a>"
      ]
    },
    {
      "cell_type": "markdown",
      "metadata": {
        "id": "mjroJgG1M24X",
        "colab_type": "text"
      },
      "source": [
        "The code below generates a synthetic training dataset assuming that the response y is a linear function of an attribute x. This is referred to as a generative model.\n",
        "\n",
        "Complete the code to determine the the optimal linear regression coefficients for the data that minimizes mean square error using (1) analytical expression we learned in class; and (2) using the \"polyfit\" and \"polyval\" functions from the numpy.polynomial.polynomial class.\n"
      ]
    },
    {
      "cell_type": "code",
      "metadata": {
        "id": "OA4ZoLIJM302",
        "colab_type": "code",
        "colab": {
          "base_uri": "https://localhost:8080/",
          "height": 331
        },
        "outputId": "7e202dbb-a216-4db3-eda0-1b4ca789d6ab"
      },
      "source": [
        "import numpy as np\n",
        "import numpy.polynomial.polynomial as poly\n",
        "import matplotlib.pyplot as plt\n",
        "\n",
        "nsamp = 100;\n",
        "wstd = 0.2;\n",
        "beta = np.array([2,3]);\n",
        "\n",
        "xd = np.random.uniform(-1,1,nsamp);\n",
        "y0 = poly.polyval(xd,beta);\n",
        "yd = y0 + np.random.normal(0,wstd,nsamp);\n",
        "\n",
        "#Analytical model\n",
        "beta1 = np.cov(xd, yd)[0][1]/np.var(xd) # linear term\n",
        "beta0 = np.mean(yd) - beta1*np.mean(xd) # constant term\n",
        "betapredict = np.array([beta0,beta1])\n",
        "print('predict beta:', betapredict)\n",
        "\n",
        "#evaluate your model at uniform points between -1 and 1\n",
        "xplot = np.linspace(-1,1)\n",
        "ypredict = poly.polyval(xplot,betapredict)\n",
        "\n",
        "betafit = poly.polyfit(xd, yd, 1) #use the polyfit function\n",
        "print('fit beta:', betafit)\n",
        "# you might need some more code here\n",
        "yfit = poly.polyval(xplot,betafit) #use the polyval function to evaluate your model at x = xplot \n",
        "\n",
        "#plot your results\n",
        "fig, ax = plt.subplots()\n",
        "ax.scatter(xd, yd)\n",
        "ax.plot(xplot,ypredict)\n",
        "ax.plot(xplot,yfit)\n",
        "\n",
        "ax.set(xlabel='X', ylabel='Y',\n",
        "       title='Linear Regression')\n",
        "ax.grid()\n",
        "\n",
        "plt.show()\n"
      ],
      "execution_count": 11,
      "outputs": [
        {
          "output_type": "stream",
          "text": [
            "predict beta: [2.01055636 3.0491617 ]\n",
            "fit beta: [2.00865203 3.01867008]\n"
          ],
          "name": "stdout"
        },
        {
          "output_type": "display_data",
          "data": {
            "image/png": "[encoded data removed]",
            "text/plain": [
              "<Figure size 432x288 with 1 Axes>"
            ]
          },
          "metadata": {
            "tags": [],
            "needs_background": "light"
          }
        }
      ]
    },
    {
      "cell_type": "code",
      "metadata": {
        "id": "hpYmZWp6SWiF",
        "colab_type": "code",
        "colab": {}
      },
      "source": [
        ""
      ],
      "execution_count": null,
      "outputs": []
    }
  ]
}